{
  "cells": [
    {
      "cell_type": "code",
      "execution_count": null,
      "metadata": {
        "collapsed": false
      },
      "outputs": [],
      "source": [
        "%matplotlib inline"
      ]
    },
    {
      "cell_type": "markdown",
      "metadata": {},
      "source": [
        "\nSimulating diffraction by an object in 2D\n===========================================\n\nFinite element simulation of the diffraction by an object illuminated by a plane \nwave or a line source. Calculation of scattering width and \ngetting the field maps.\n"
      ]
    },
    {
      "cell_type": "code",
      "execution_count": null,
      "metadata": {
        "collapsed": false
      },
      "outputs": [],
      "source": [
        "import numpy as np\nimport matplotlib.pyplot as plt\nfrom pytheas import Scatt2D\n\nplt.ion()\n\npi = np.pi"
      ]
    },
    {
      "cell_type": "markdown",
      "metadata": {},
      "source": [
        "Then we need to instanciate the class :py:class:`Scatt2D`:\n\n"
      ]
    },
    {
      "cell_type": "code",
      "execution_count": null,
      "metadata": {
        "collapsed": false
      },
      "outputs": [],
      "source": [
        "fem = Scatt2D()\nfem.rm_tmp_dir()"
      ]
    },
    {
      "cell_type": "code",
      "execution_count": null,
      "metadata": {
        "collapsed": false
      },
      "outputs": [],
      "source": [
        "# We define first the opto-geometric parameters:\n\nmum = 1  #: flt: the scale of the problem (here micrometers)\nfem.lambda0 = 0.6 * mum  #: flt: incident wavelength\nfem.pola = \"TE\"  #: str: polarization (TE or TM)\nfem.theta_deg = 30.0  # 0: coming from top (y>0)\nfem.hx_des = 1.0 * mum  #: flt: x thickness box\nfem.hy_des = 1.0 * mum  #: flt: y thickness box\nfem.h_pml = fem.lambda0  #: flt: thickness pml\nfem.space2pml_L, fem.space2pml_R = fem.lambda0 * 2, fem.lambda0 * 2\nfem.space2pml_T, fem.space2pml_B = fem.lambda0 * 2, fem.lambda0 * 2\nfem.eps_des = 1  #: flt: permittivity design box\nfem.eps_host = 1.0\nfem.eps_incl = 11.0 - 1e-2 * 1j\n#: mesh parameters, correspond to a mesh size of lambda_mesh/(n*parmesh),\n#: where n is the refractive index of the medium\nfem.lambda_mesh = 0.6 * mum  #: flt: incident wavelength\nfem.parmesh_des = 10\nfem.parmesh_incl = 10\nfem.parmesh = 10\nfem.parmesh_pml = fem.parmesh * 2 / 3\n\nfem.Nix = 101\nfem.Niy = 101"
      ]
    },
    {
      "cell_type": "markdown",
      "metadata": {},
      "source": [
        "Here we define an ellipsoidal rod as the scatterer:\n\n"
      ]
    },
    {
      "cell_type": "code",
      "execution_count": null,
      "metadata": {
        "collapsed": false
      },
      "outputs": [],
      "source": [
        "def ellipse(Rinclx, Rincly, rot_incl, x0, y0):\n    c, s = np.cos(rot_incl), np.sin(rot_incl)\n    Rot = np.array([[c, -s], [s, c]])\n    nt = 360\n    theta = np.linspace(-pi, pi, nt)\n    x = Rinclx * np.sin(theta)\n    y = Rincly * np.cos(theta)\n    x, y = np.linalg.linalg.dot(Rot, np.array([x, y]))\n    points = x + x0, y + y0\n    return points\n\n\nrod = ellipse(0.4 * mum, 0.2 * mum, 0, 0, 0)\nfem.inclusion_flag = True"
      ]
    },
    {
      "cell_type": "markdown",
      "metadata": {},
      "source": [
        "Initialize, build the scatterer, mesh and  compute the solution:\n\n"
      ]
    },
    {
      "cell_type": "code",
      "execution_count": null,
      "metadata": {
        "collapsed": false
      },
      "outputs": [],
      "source": [
        "fem.initialize()\nfem.make_inclusion(rod)\nfem.make_mesh()\nfem.compute_solution()"
      ]
    },
    {
      "cell_type": "markdown",
      "metadata": {},
      "source": [
        "Get the electric field and plot it:\n\n"
      ]
    },
    {
      "cell_type": "code",
      "execution_count": null,
      "metadata": {
        "collapsed": false
      },
      "outputs": [],
      "source": [
        "fem.postpro_fields()\nu_tot = fem.get_field_map(\"u_tot.txt\")\nfig, ax = plt.subplots()\nE = u_tot.real\nplt.imshow(E, cmap=\"RdBu_r\", extent=(fem.domX_L, fem.domX_R, fem.domY_B, fem.domY_T))\nplt.plot(rod[0], rod[1], \"w\")\nplt.xlabel(r\"$x$ ($\\rm \\mu$m)\")\nplt.ylabel(r\"$y$ ($\\rm \\mu$m)\")\nplt.title(r\"Electric Field (real part) (V/m)\")\nplt.colorbar()\nplt.tight_layout()"
      ]
    },
    {
      "cell_type": "markdown",
      "metadata": {},
      "source": [
        "Do a near to far field transform and get the normalized scattering width:\n\n"
      ]
    },
    {
      "cell_type": "code",
      "execution_count": null,
      "metadata": {
        "collapsed": false
      },
      "outputs": [],
      "source": [
        "ff = fem.postpro_fields_n2f()\ntheta = np.linspace(0, 2 * pi, 51)\nscs = fem.normalized_scs(ff, theta)\n\n\nfig, ax = plt.subplots()\nplt.plot(theta / pi, scs, \"-\", c=\"#699545\")\nplt.xlabel(r\"$\\theta$ (rad)\")\nplt.ylabel(r\" Normalized scattering width $\\sigma/\\lambda$\")\nax.xaxis.set_ticks([0, 0.5, 1, 1.5, 2])\nax.xaxis.set_ticklabels([\"0\", \"$\\pi/2$\", \"$\\pi$\", \"$3\\pi/2$\", \"$2\\pi$\"])\n\nscs_integ = np.trapz(scs, theta) / (2 * pi)\nprint(\"Normalized SCS\", scs_integ)"
      ]
    }
  ],
  "metadata": {
    "kernelspec": {
      "display_name": "Python 3",
      "language": "python",
      "name": "python3"
    },
    "language_info": {
      "codemirror_mode": {
        "name": "ipython",
        "version": 3
      },
      "file_extension": ".py",
      "mimetype": "text/x-python",
      "name": "python",
      "nbconvert_exporter": "python",
      "pygments_lexer": "ipython3",
      "version": "3.8.0"
    }
  },
  "nbformat": 4,
  "nbformat_minor": 0
}