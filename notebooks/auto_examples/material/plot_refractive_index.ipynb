{
  "cells": [
    {
      "cell_type": "code",
      "execution_count": null,
      "metadata": {
        "collapsed": false
      },
      "outputs": [],
      "source": [
        "%matplotlib inline"
      ]
    },
    {
      "cell_type": "markdown",
      "metadata": {},
      "source": [
        "\nImporting refractive index from a database\n==========================================\n\nRetrieve and plot the refractive index of a material in the refractiveindex.info\ndata.\n"
      ]
    },
    {
      "cell_type": "code",
      "execution_count": null,
      "metadata": {
        "collapsed": false
      },
      "outputs": [],
      "source": [
        "import numpy as np\nfrom pytheas import refractiveindex as ri\nimport matplotlib.pyplot as plt"
      ]
    },
    {
      "cell_type": "markdown",
      "metadata": {},
      "source": [
        "We can get the refractive index from tabulated data or a formula using the\ndatabase in the :py:mod:`pytheas.material` module.\nWe will import the measured data from the reference `Johnson and Christy`_ [JC1972]_.\nWe first specify the file :code:`yamlFile` we want to import:\n\n"
      ]
    },
    {
      "cell_type": "code",
      "execution_count": null,
      "metadata": {
        "collapsed": false
      },
      "outputs": [],
      "source": [
        "yamlFile = \"main/Au/Johnson.yml\""
      ]
    },
    {
      "cell_type": "markdown",
      "metadata": {},
      "source": [
        "We then get the wavelength bounds from the data (in microns) and create a\nwavelength range to interpolate:\n\n"
      ]
    },
    {
      "cell_type": "code",
      "execution_count": null,
      "metadata": {
        "collapsed": false
      },
      "outputs": [],
      "source": [
        "bounds = ri.get_wl_range(yamlFile)\nprint(bounds[0], bounds[1])\nlambdas = np.linspace(0.4, 0.8, 300)"
      ]
    },
    {
      "cell_type": "markdown",
      "metadata": {},
      "source": [
        "Then get the refractive index data:\n\n"
      ]
    },
    {
      "cell_type": "code",
      "execution_count": null,
      "metadata": {
        "collapsed": false
      },
      "outputs": [],
      "source": [
        "ncomplex = ri.get_complex_index(lambdas, yamlFile)\nepsilon = ncomplex ** 2"
      ]
    },
    {
      "cell_type": "markdown",
      "metadata": {},
      "source": [
        "And finally plot it:\n\n"
      ]
    },
    {
      "cell_type": "code",
      "execution_count": null,
      "metadata": {
        "collapsed": false
      },
      "outputs": [],
      "source": [
        "fig, ax = plt.subplots(1, figsize=(6, 4))\nax.plot(lambdas, epsilon.real, \"-\", c=\"#ad4453\", label=r\"Re($\\varepsilon$)\")\nax.plot(lambdas, epsilon.imag, \"--\", c=\"#44ad84\", label=r\"Im($\\varepsilon$)\")\nax.set_xlabel(r\"$\\lambda$ ($\\mu m$)\")\nax.set_title(\"complex permittivity from \" + yamlFile[5:][:-4])\nax.legend(loc=0)\nplt.tight_layout()"
      ]
    },
    {
      "cell_type": "markdown",
      "metadata": {},
      "source": [
        ".. [JC1972] (P. B. Johnson and R. W. Christy.\n            Optical constants of the noble metals,\n            Phys. Rev. B 6, 4370-4379 (1972)).\n\n    https://doi.org/10.1103/PhysRevB.6.4370\n\n"
      ]
    }
  ],
  "metadata": {
    "kernelspec": {
      "display_name": "Python 3",
      "language": "python",
      "name": "python3"
    },
    "language_info": {
      "codemirror_mode": {
        "name": "ipython",
        "version": 3
      },
      "file_extension": ".py",
      "mimetype": "text/x-python",
      "name": "python",
      "nbconvert_exporter": "python",
      "pygments_lexer": "ipython3",
      "version": "3.8.0"
    }
  },
  "nbformat": 4,
  "nbformat_minor": 0
}