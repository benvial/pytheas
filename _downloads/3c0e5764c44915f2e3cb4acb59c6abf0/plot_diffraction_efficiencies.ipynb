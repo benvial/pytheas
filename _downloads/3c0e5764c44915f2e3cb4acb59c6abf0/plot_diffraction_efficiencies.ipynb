{
  "cells": [
    {
      "cell_type": "code",
      "execution_count": null,
      "metadata": {
        "collapsed": false
      },
      "outputs": [],
      "source": [
        "%matplotlib inline"
      ]
    },
    {
      "cell_type": "markdown",
      "metadata": {},
      "source": [
        "\nSimulating diffraction by a 2D metamaterial\n===========================================\n\nFinite element simulation of the diffraction of a plane wave by a mono-periodic\ngrating and calculation of diffraction efficiencies.\n"
      ]
    },
    {
      "cell_type": "markdown",
      "metadata": {},
      "source": [
        "First we import the required modules and class\n\n"
      ]
    },
    {
      "cell_type": "code",
      "execution_count": null,
      "metadata": {
        "collapsed": false
      },
      "outputs": [],
      "source": [
        "import numpy as np\nimport matplotlib.pyplot as plt\nfrom pytheas import genmat\nfrom pytheas import Periodic2D"
      ]
    },
    {
      "cell_type": "markdown",
      "metadata": {},
      "source": [
        "Then we need to instanciate the class :py:class:`FemModel`:\n\n"
      ]
    },
    {
      "cell_type": "code",
      "execution_count": null,
      "metadata": {
        "collapsed": false
      },
      "outputs": [],
      "source": [
        "fem = Periodic2D()"
      ]
    },
    {
      "cell_type": "markdown",
      "metadata": {},
      "source": [
        "The model consist of a single unit cell with quasi-periodic boundary conditions\nin the $x$ direction enclosed with perfectly matched layers (PMLs)\nin the $y$ direction to truncate the semi infinite media. From top to bottom:\n\n- PML top\n- superstrate (incident medium)\n- layer 1\n- design layer: this is the layer containing the periodic pattern, can be continuous or discrete\n- layer 2\n- substrate\n- PML bottom\n\nWe define here the opto-geometric parameters:\n\n"
      ]
    },
    {
      "cell_type": "code",
      "execution_count": null,
      "metadata": {
        "collapsed": false
      },
      "outputs": [],
      "source": [
        "# opto-geometric parameters  -------------------------------------------\nmum = 1e-6  #: flt: the scale of the problem (here micrometers)\nfem.d = 0.4 * mum  #: flt: period\nfem.h_sup = 1.0 * mum  #: flt: \"thickness\" superstrate\nfem.h_sub = 1.0 * mum  #: flt: \"thickness\" substrate\nfem.h_layer1 = 0.1 * mum  #: flt: thickness layer 1\nfem.h_layer2 = 0.1 * mum  #: flt: thickness layer 2\nfem.h_des = 0.4 * mum  #: flt: thickness layer design\nfem.h_pmltop = 1.0 * mum  #: flt: thickness pml top\nfem.h_pmlbot = 1.0 * mum  #: flt: thickness pml bot\nfem.a_pml = 1  #: flt: PMLs parameter, real part\nfem.b_pml = 1  #: flt: PMLs parameter, imaginary part\nfem.eps_sup = 1  #: flt: permittivity superstrate\nfem.eps_sub = 3  #: flt: permittivity substrate\nfem.eps_layer1 = 1  #: flt: permittivity layer 1\nfem.eps_layer2 = 1  #: flt: permittivity layer 2\nfem.eps_des = 1  #: flt: permittivity layer design\nfem.lambda0 = 0.6 * mum  #: flt: incident wavelength\nfem.theta_deg = 0.0  #: flt: incident angle\nfem.pola = \"TE\"  #: str: polarization (TE or TM)\nfem.lambda_mesh = 0.6 * mum  #: flt: incident wavelength\n#: mesh parameters, correspond to a mesh size of lambda_mesh/(n*parmesh),\n#: where n is the refractive index of the medium\nfem.parmesh_des = 15\nfem.parmesh = 13\nfem.parmesh_pml = fem.parmesh * 2 / 3\nfem.type_des = \"elements\""
      ]
    },
    {
      "cell_type": "markdown",
      "metadata": {},
      "source": [
        "We then initialize the model (copying files, etc...) and mesh the unit\ncell using gmsh\n\n"
      ]
    },
    {
      "cell_type": "code",
      "execution_count": null,
      "metadata": {
        "collapsed": false
      },
      "outputs": [],
      "source": [
        "fem.getdp_verbose = 0\nfem.gmsh_verbose = 0\n\nfem.initialize()\nmesh = fem.make_mesh()"
      ]
    },
    {
      "cell_type": "markdown",
      "metadata": {},
      "source": [
        "We use the :py:mod:`genmat` module to generate a material pattern\n\n"
      ]
    },
    {
      "cell_type": "code",
      "execution_count": null,
      "metadata": {
        "collapsed": false
      },
      "outputs": [],
      "source": [
        "genmat.np.random.seed(100)\nmat = genmat.MaterialDensity()  # instanciate\nmat.n_x, mat.n_y, mat.n_z = 2 ** 7, 2 ** 7, 1  # sizes\nmat.xsym = True  # symmetric with respect to x?\nmat.p_seed = mat.mat_rand  # fix the pattern random seed\nmat.nb_threshold = 3  # number of materials\nmat._threshold_val = np.random.permutation(mat.threshold_val)\nmat.pattern = mat.discrete_pattern\nfig, ax = plt.subplots()\nmat.plot_pattern(fig, ax)"
      ]
    },
    {
      "cell_type": "markdown",
      "metadata": {},
      "source": [
        "We now assign the permittivity\n\n"
      ]
    },
    {
      "cell_type": "code",
      "execution_count": null,
      "metadata": {
        "collapsed": false
      },
      "outputs": [],
      "source": [
        "fem.register_pattern(mat.pattern, mat._threshold_val)\nfem.matprop_pattern = [1.4, 4 - 0.02 * 1j, 2]  # refractive index values"
      ]
    },
    {
      "cell_type": "markdown",
      "metadata": {},
      "source": [
        "Now we're ready to compute the solution:\n\n"
      ]
    },
    {
      "cell_type": "code",
      "execution_count": null,
      "metadata": {
        "collapsed": false
      },
      "outputs": [],
      "source": [
        "fem.compute_solution()"
      ]
    },
    {
      "cell_type": "markdown",
      "metadata": {},
      "source": [
        "Finally we compute the diffraction efficiencies, absorption and energy balance\n\n"
      ]
    },
    {
      "cell_type": "code",
      "execution_count": null,
      "metadata": {
        "collapsed": false
      },
      "outputs": [],
      "source": [
        "effs_TE = fem.diffraction_efficiencies()\nprint(\"efficiencies TE\", effs_TE)"
      ]
    },
    {
      "cell_type": "markdown",
      "metadata": {},
      "source": [
        "It is fairly easy to switch to TM polarization:\n\n"
      ]
    },
    {
      "cell_type": "code",
      "execution_count": null,
      "metadata": {
        "collapsed": false
      },
      "outputs": [],
      "source": [
        "fem.pola = \"TM\"\nfem.compute_solution()\neffs_TM = fem.diffraction_efficiencies()\nprint(\"efficiencies TM\", effs_TM)"
      ]
    }
  ],
  "metadata": {
    "kernelspec": {
      "display_name": "Python 3",
      "language": "python",
      "name": "python3"
    },
    "language_info": {
      "codemirror_mode": {
        "name": "ipython",
        "version": 3
      },
      "file_extension": ".py",
      "mimetype": "text/x-python",
      "name": "python",
      "nbconvert_exporter": "python",
      "pygments_lexer": "ipython3",
      "version": "3.8.0"
    }
  },
  "nbformat": 4,
  "nbformat_minor": 0
}