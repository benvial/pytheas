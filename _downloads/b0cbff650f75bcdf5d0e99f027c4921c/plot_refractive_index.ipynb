{
  "cells": [
    {
      "cell_type": "code",
      "execution_count": null,
      "metadata": {
        "collapsed": false
      },
      "outputs": [],
      "source": [
        "%matplotlib inline"
      ]
    },
    {
      "cell_type": "markdown",
      "metadata": {},
      "source": [
        "\nImporting refractive index from a database\n==========================================\n\nRetrieve and plot the refractive index of a material in the refractiveindex.info\ndata.\n\n"
      ]
    },
    {
      "cell_type": "code",
      "execution_count": null,
      "metadata": {
        "collapsed": false
      },
      "outputs": [],
      "source": [
        "# Code source: Benjamin Vial\n# License: MIT\n\nimport numpy as np\nfrom pytheas import refractiveindex as ri\nimport matplotlib.pyplot as plt"
      ]
    },
    {
      "cell_type": "markdown",
      "metadata": {},
      "source": [
        "We can get the refractive index from tabulated data or a formula using the\ndatabase in the :py:mod:`pytheas.material` module.\nWe will import the measured data from the reference `Johnson and Christy`_ [JC1972]_.\nWe first specify the file :code:`yamlFile` we want to import:\n\n"
      ]
    },
    {
      "cell_type": "code",
      "execution_count": null,
      "metadata": {
        "collapsed": false
      },
      "outputs": [],
      "source": [
        "yamlFile = \"main/Au/Johnson.yml\""
      ]
    },
    {
      "cell_type": "markdown",
      "metadata": {},
      "source": [
        "We then get the wavelength bounds from the data (in microns) and create a\nwavelength range to interpolate:\n\n"
      ]
    },
    {
      "cell_type": "code",
      "execution_count": null,
      "metadata": {
        "collapsed": false
      },
      "outputs": [],
      "source": [
        "bounds = ri.get_wl_range(yamlFile)\nlambdas = np.linspace(bounds[0], bounds[1], 300)"
      ]
    },
    {
      "cell_type": "markdown",
      "metadata": {},
      "source": [
        "Then get the refractive index data:\n\n"
      ]
    },
    {
      "cell_type": "code",
      "execution_count": null,
      "metadata": {
        "collapsed": false
      },
      "outputs": [],
      "source": [
        "ncomplex = ri.get_complex_index(lambdas, yamlFile)\nepsilon = ncomplex ** 2"
      ]
    },
    {
      "cell_type": "markdown",
      "metadata": {},
      "source": [
        "And finally plot it:\n\n"
      ]
    },
    {
      "cell_type": "code",
      "execution_count": null,
      "metadata": {
        "collapsed": false
      },
      "outputs": [],
      "source": [
        "plt.close(\"all\")\nfig, ax = plt.subplots(1, figsize=(6, 4))\nplt.plot(lambdas, epsilon.real, \"r-\", label=r\"Re($\\varepsilon$)\")\nplt.plot(lambdas, epsilon.imag, \"b--\", label=r\"Im($\\varepsilon$)\")\nplt.xlabel(r\"$\\lambda$ ($\\mu m$)\")\nplt.title(\"complex permittivity from \" + yamlFile[5:][:-4])\nplt.legend(loc=0)\nplt.show()"
      ]
    },
    {
      "cell_type": "markdown",
      "metadata": {},
      "source": [
        ".. [JC1972]\n         (P. B. Johnson and R. W. Christy. Optical constants of the noble\n          metals, Phys. Rev. B 6, 4370-4379 (1972)).\n    https://doi.org/10.1103/PhysRevB.6.4370\n\n"
      ]
    }
  ],
  "metadata": {
    "kernelspec": {
      "display_name": "Python 3",
      "language": "python",
      "name": "python3"
    },
    "language_info": {
      "codemirror_mode": {
        "name": "ipython",
        "version": 3
      },
      "file_extension": ".py",
      "mimetype": "text/x-python",
      "name": "python",
      "nbconvert_exporter": "python",
      "pygments_lexer": "ipython3",
      "version": "3.7.1"
    }
  },
  "nbformat": 4,
  "nbformat_minor": 0
}